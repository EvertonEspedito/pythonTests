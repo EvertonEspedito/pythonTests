{
 "cells": [
  {
   "cell_type": "markdown",
   "id": "c4e43d21-160f-49ea-af2c-d4f1a82c152d",
   "metadata": {},
   "source": [
    "## Módulo 8: Projeto Final\n",
    "\n",
    "Integrando conhecimentos adquiridos no curso."
   ]
  },
  {
   "cell_type": "markdown",
   "id": "a58a938c-60e8-41fd-8d2f-5c6e453794d6",
   "metadata": {},
   "source": [
    "##### Este código inclui a leitura de um arquivo CSV, visualização de dados e algumas operações básicas de análise, como média e correlação.\n"
   ]
  },
  {
   "cell_type": "code",
   "execution_count": null,
   "id": "c7245c60-1be1-4200-89e4-fdec33a8558c",
   "metadata": {},
   "outputs": [],
   "source": [
    "import pandas as pd\n",
    "import matplotlib.pyplot as plt\n",
    "\n",
    "# Carregar os dados\n",
    "arquivo_csv = 'seu_arquivo.csv'  # Substitua pelo caminho do seu arquivo CSV\n",
    "dados = pd.read_csv(arquivo_csv)\n",
    "\n",
    "# Exibir as primeiras linhas dos dados para revisão\n",
    "print(dados.head())\n",
    "\n",
    "# Análise básica\n",
    "print(\"\\nEstatísticas descritivas dos dados:\")\n",
    "print(dados.describe())  # Exibe estatísticas como média, desvio padrão, etc.\n",
    "\n",
    "# Exemplo de análise - Média da Renda Mensal\n",
    "media_renda = dados['Renda Mensal'].mean()\n",
    "print(f\"\\nMédia da Renda Mensal: {media_renda}\")\n",
    "\n",
    "# Exemplo de visualização - Gráfico de dispersão entre Renda Mensal e Número de Compras Online\n",
    "plt.scatter(dados['Renda Mensal'], dados['Número de Compras Online'])\n",
    "plt.title('Renda Mensal vs Número de Compras Online')\n",
    "plt.xlabel('Renda Mensal')\n",
    "plt.ylabel('Número de Compras Online')\n",
    "plt.show()\n",
    "\n",
    "# Exemplo de análise - Correlação entre variáveis\n",
    "correlacao = dados[['Renda Mensal', 'Número de Compras Online']].corr()\n",
    "print(\"\\nCorrelação entre Renda Mensal e Número de Compras Online:\")\n",
    "print(correlacao)\n",
    "\n",
    "# Filtragem de dados - Exemplo de seleção de dados com base em uma condição (Renda Mensal > 5000)\n",
    "dados_filtrados = dados[dados['Renda Mensal'] > 5000]\n",
    "print(\"\\nDados filtrados (Renda Mensal > 5000):\")\n",
    "print(dados_filtrados)\n",
    "\n",
    "# Salvar o relatório com os resultados da análise em um arquivo de texto\n",
    "with open('relatorio_analise.txt', 'w') as file:\n",
    "    file.write(f\"Média da Renda Mensal: {media_renda}\\n\")\n",
    "    file.write(\"Correlação entre Renda Mensal e Número de Compras Online:\\n\")\n",
    "    file.write(f\"{correlacao}\\n\")\n",
    "    file.write(f\"Dados filtrados (Renda Mensal > 5000):\\n{dados_filtrados}\\n\")\n",
    "\n",
    "print(\"\\nRelatório salvo como 'relatorio_analise.txt'.\")\n"
   ]
  },
  {
   "cell_type": "markdown",
   "id": "b7bbabc3-1de1-4324-b389-f073e780b88a",
   "metadata": {},
   "source": [
    "### Explicação:\n",
    "    - Leitura de dados: O código começa carregando um arquivo CSV para um DataFrame usando o pandas.\n",
    "    - Estatísticas descritivas: Em seguida, ele exibe as estatísticas básicas, como média, desvio padrão e outros valores agregados.\n",
    "    - Cálculo da média: Calcula a média da coluna Renda Mensal.\n",
    "    - Visualização de dados: Cria um gráfico de dispersão entre Renda Mensal e Número de Compras Online para observar possíveis padrões.\n",
    "    - Correlação: Calcula a correlação entre Renda Mensal e Número de Compras Online.\n",
    "    - Filtragem de dados: Mostra um exemplo de como filtrar os dados com base em uma condição (neste caso, Renda Mensal maior que 5000).\n",
    "    - Relatório: Salva os resultados em um arquivo de texto (relatorio_analise.txt).\n",
    "    \n",
    "#### O que os alunos devem fazer:\n",
    "    - Substituir 'seu_arquivo.csv' pelo nome do arquivo CSV que contém os dados.\n",
    "    - Modificar o código conforme necessário para realizar outras análises ou visualizações.\n",
    "    - Preencher o relatório com base nas saídas obtidas durante a execução do código.\n",
    "\n",
    "    \n",
    "##### Esse código fornece uma boa base para eles começarem e é simples o suficiente para alunos que estão começando com Python e análise de dados."
   ]
  },
  {
   "cell_type": "code",
   "execution_count": null,
   "id": "981eba82-731a-4549-82c2-143229bfa871",
   "metadata": {},
   "outputs": [],
   "source": []
  }
 ],
 "metadata": {
  "kernelspec": {
   "display_name": "Python 3 (ipykernel)",
   "language": "python",
   "name": "python3"
  },
  "language_info": {
   "codemirror_mode": {
    "name": "ipython",
    "version": 3
   },
   "file_extension": ".py",
   "mimetype": "text/x-python",
   "name": "python",
   "nbconvert_exporter": "python",
   "pygments_lexer": "ipython3",
   "version": "3.12.7"
  }
 },
 "nbformat": 4,
 "nbformat_minor": 5
}
