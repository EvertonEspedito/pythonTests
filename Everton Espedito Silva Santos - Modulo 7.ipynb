{
 "cells": [
  {
   "cell_type": "markdown",
   "id": "cd4b6a6b-3dac-406f-84cd-1db06a615df8",
   "metadata": {},
   "source": [
    "## 📊 Atividade: Análise de Dados de Vendas com Pandas\n",
    "🎯 Objetivo\n",
    "Os alunos irão analisar um conjunto de dados fictício de uma empresa de e-commerce, aplicando funções do Pandas para explorar e extrair insights sobre as vendas."
   ]
  },
  {
   "cell_type": "code",
   "execution_count": 5,
   "id": "ad66fa67-1658-4ef4-a5a0-3e82e39b3a09",
   "metadata": {},
   "outputs": [
    {
     "ename": "ModuleNotFoundError",
     "evalue": "No module named 'pandas'",
     "output_type": "error",
     "traceback": [
      "\u001b[31m---------------------------------------------------------------------------\u001b[39m",
      "\u001b[31mModuleNotFoundError\u001b[39m                       Traceback (most recent call last)",
      "\u001b[36mCell\u001b[39m\u001b[36m \u001b[39m\u001b[32mIn[5]\u001b[39m\u001b[32m, line 1\u001b[39m\n\u001b[32m----> \u001b[39m\u001b[32m1\u001b[39m \u001b[38;5;28;01mimport\u001b[39;00m\u001b[38;5;250m \u001b[39m\u001b[34;01mpandas\u001b[39;00m\u001b[38;5;250m \u001b[39m\u001b[38;5;28;01mas\u001b[39;00m\u001b[38;5;250m \u001b[39m\u001b[34;01mpd\u001b[39;00m\n\u001b[32m      3\u001b[39m \u001b[38;5;66;03m# Criando o DataFrame\u001b[39;00m\n\u001b[32m      4\u001b[39m dados_vendas = {\n\u001b[32m      5\u001b[39m     \u001b[33m'\u001b[39m\u001b[33mPedido_ID\u001b[39m\u001b[33m'\u001b[39m: [\u001b[32m1001\u001b[39m, \u001b[32m1002\u001b[39m, \u001b[32m1003\u001b[39m, \u001b[32m1004\u001b[39m, \u001b[32m1005\u001b[39m, \u001b[32m1006\u001b[39m, \u001b[32m1007\u001b[39m, \u001b[32m1008\u001b[39m, \u001b[32m1009\u001b[39m, \u001b[32m1010\u001b[39m],\n\u001b[32m      6\u001b[39m     \u001b[33m'\u001b[39m\u001b[33mCliente\u001b[39m\u001b[33m'\u001b[39m: [\u001b[33m'\u001b[39m\u001b[33mAna\u001b[39m\u001b[33m'\u001b[39m, \u001b[33m'\u001b[39m\u001b[33mBruno\u001b[39m\u001b[33m'\u001b[39m, \u001b[33m'\u001b[39m\u001b[33mCarla\u001b[39m\u001b[33m'\u001b[39m, \u001b[33m'\u001b[39m\u001b[33mDaniel\u001b[39m\u001b[33m'\u001b[39m, \u001b[33m'\u001b[39m\u001b[33mElisa\u001b[39m\u001b[33m'\u001b[39m, \u001b[33m'\u001b[39m\u001b[33mFelipe\u001b[39m\u001b[33m'\u001b[39m, \u001b[33m'\u001b[39m\u001b[33mGabriela\u001b[39m\u001b[33m'\u001b[39m, \u001b[33m'\u001b[39m\u001b[33mHugo\u001b[39m\u001b[33m'\u001b[39m, \u001b[33m'\u001b[39m\u001b[33mIsabel\u001b[39m\u001b[33m'\u001b[39m, \u001b[33m'\u001b[39m\u001b[33mJoão\u001b[39m\u001b[33m'\u001b[39m],\n\u001b[32m   (...)\u001b[39m\u001b[32m     12\u001b[39m     \u001b[33m'\u001b[39m\u001b[33mAvaliacao\u001b[39m\u001b[33m'\u001b[39m: [\u001b[32m4.5\u001b[39m, \u001b[32m3.8\u001b[39m, \u001b[32m4.9\u001b[39m, \u001b[32m4.2\u001b[39m, \u001b[32m3.5\u001b[39m, \u001b[32m4.7\u001b[39m, \u001b[32m4.1\u001b[39m, \u001b[32m3.9\u001b[39m, \u001b[32m5.0\u001b[39m, \u001b[32m4.0\u001b[39m]\n\u001b[32m     13\u001b[39m }\n",
      "\u001b[31mModuleNotFoundError\u001b[39m: No module named 'pandas'"
     ]
    }
   ],
   "source": [
    "import pandas as pd\n",
    "\n",
    "# Criando o DataFrame\n",
    "dados_vendas = {\n",
    "    'Pedido_ID': [1001, 1002, 1003, 1004, 1005, 1006, 1007, 1008, 1009, 1010],\n",
    "    'Cliente': ['Ana', 'Bruno', 'Carla', 'Daniel', 'Elisa', 'Felipe', 'Gabriela', 'Hugo', 'Isabel', 'João'],\n",
    "    'Categoria': ['Eletrônicos', 'Roupas', 'Eletrônicos', 'Livros', 'Roupas', 'Eletrônicos', 'Livros', 'Roupas', 'Eletrônicos', 'Livros'],\n",
    "    'Valor_Venda': [1200, 250, 3500, 90, 180, 2500, 120, 300, 4500, 80],\n",
    "    'Data': pd.to_datetime(['2024-01-15', '2024-01-18', '2024-01-21', '2024-01-22', '2024-01-25', \n",
    "                            '2024-02-02', '2024-02-10', '2024-02-14', '2024-02-20', '2024-02-25']),\n",
    "    'Quantidade': [1, 3, 2, 1, 2, 1, 2, 4, 1, 1],\n",
    "    'Avaliacao': [4.5, 3.8, 4.9, 4.2, 3.5, 4.7, 4.1, 3.9, 5.0, 4.0]\n",
    "}\n",
    "\n",
    "df = pd.DataFrame(dados_vendas)\n",
    "\n",
    "# Exibir as primeiras linhas do DataFrame\n",
    "print(df.head())\n"
   ]
  },
  {
   "cell_type": "code",
   "execution_count": null,
   "id": "2bf5daff-05a9-4d3a-a25b-30a49dfd80d6",
   "metadata": {},
   "outputs": [],
   "source": [
    "#Qual foi o valor médio das vendas?\n",
    "\n",
    "print(\"Valor médio das vendas:\", df['Valor_Venda'].mean())"
   ]
  },
  {
   "cell_type": "code",
   "execution_count": null,
   "id": "f68f9e1a-37f3-4e4a-8d22-8de8f706b101",
   "metadata": {},
   "outputs": [],
   "source": [
    "#Qual foi a categoria mais vendida em quantidade de produtos?\n",
    "\n",
    "print(df.groupby('Categoria')['Quantidade'].sum())"
   ]
  },
  {
   "cell_type": "code",
   "execution_count": null,
   "id": "36672bf6-0123-4124-900e-5693973654aa",
   "metadata": {},
   "outputs": [],
   "source": [
    "#Qual foi o maior valor de venda registrado? E quem comprou?\n",
    "\n",
    "max_venda = df[df['Valor_Venda'] == df['Valor_Venda'].max()]\n",
    "print(max_venda[['Cliente', 'Valor_Venda']])"
   ]
  },
  {
   "cell_type": "code",
   "execution_count": null,
   "id": "8551aced-06ce-49db-a78d-4aa501ef1568",
   "metadata": {},
   "outputs": [],
   "source": [
    "vendas_fevereiro = df[df['Data'].dt.month == 2]\n",
    "print(\"Total de vendas em fevereiro:\", len(vendas_fevereiro))"
   ]
  }
 ],
 "metadata": {
  "kernelspec": {
   "display_name": "Python 3",
   "language": "python",
   "name": "python3"
  },
  "language_info": {
   "codemirror_mode": {
    "name": "ipython",
    "version": 3
   },
   "file_extension": ".py",
   "mimetype": "text/x-python",
   "name": "python",
   "nbconvert_exporter": "python",
   "pygments_lexer": "ipython3",
   "version": "3.11.3"
  }
 },
 "nbformat": 4,
 "nbformat_minor": 5
}
